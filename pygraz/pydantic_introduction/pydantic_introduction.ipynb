{
 "cells": [
  {
   "metadata": {},
   "cell_type": "markdown",
   "source": [
    "# Introduction to pydantic\n",
    "\n",
    "Pydantic is a Python package to validate data. You can download it from https://pypi.org/project/pydantic/, The documentation is available from https://docs.pydantic.dev/"
   ],
   "id": "c9ff4509308cef15"
  },
  {
   "metadata": {},
   "cell_type": "markdown",
   "source": [
    "## Validate types and required fields\n",
    "Here's simple example that defines a person using pydantic. The first name and last name are required. The date the person was born on is optional because it has a default value, in this case `None`."
   ],
   "id": "8525192ff6724c"
  },
  {
   "metadata": {
    "ExecuteTime": {
     "end_time": "2024-10-02T06:18:46.706232Z",
     "start_time": "2024-10-02T06:18:46.701409Z"
    }
   },
   "cell_type": "code",
   "source": [
    "from datetime import date\n",
    "from pydantic import BaseModel\n",
    "\n",
    "class Person1(BaseModel):\n",
    "    first_name: str\n",
    "    last_name: str\n",
    "    born_on: date | None = None"
   ],
   "id": "4a494e52740ae7b8",
   "outputs": [],
   "execution_count": 22
  },
  {
   "metadata": {},
   "cell_type": "markdown",
   "source": "Here's how we can create a person:",
   "id": "e1aee5c2b8b1d446"
  },
  {
   "metadata": {
    "ExecuteTime": {
     "end_time": "2024-10-02T06:19:04.957097Z",
     "start_time": "2024-10-02T06:19:04.954339Z"
    }
   },
   "cell_type": "code",
   "source": "Person1(first_name='Alice', last_name='Adams')",
   "id": "26381297ead74c8d",
   "outputs": [
    {
     "data": {
      "text/plain": [
       "Person1(first_name='Alice', last_name='Adams', born_on=None)"
      ]
     },
     "execution_count": 24,
     "metadata": {},
     "output_type": "execute_result"
    }
   ],
   "execution_count": 24
  },
  {
   "metadata": {
    "ExecuteTime": {
     "end_time": "2024-10-02T06:19:13.866689Z",
     "start_time": "2024-10-02T06:19:13.863891Z"
    }
   },
   "cell_type": "code",
   "source": "Person1(first_name=\"Bob\", last_name=\"Brown\", born_on=date(1960, 1, 1))",
   "id": "460f0894685dcba2",
   "outputs": [
    {
     "data": {
      "text/plain": [
       "Person1(first_name='Bob', last_name='Brown', born_on=datetime.date(1960, 1, 1))"
      ]
     },
     "execution_count": 25,
     "metadata": {},
     "output_type": "execute_result"
    }
   ],
   "execution_count": 25
  },
  {
   "metadata": {},
   "cell_type": "markdown",
   "source": "Trying to create a person without last name fails:",
   "id": "fc8c37fea8ef3809"
  },
  {
   "metadata": {
    "ExecuteTime": {
     "end_time": "2024-10-02T06:19:41.981337Z",
     "start_time": "2024-10-02T06:19:41.967612Z"
    }
   },
   "cell_type": "code",
   "source": "Person1(first_name='Alice')",
   "id": "35da20964670a396",
   "outputs": [
    {
     "ename": "ValidationError",
     "evalue": "1 validation error for Person1\nlast_name\n  Field required [type=missing, input_value={'first_name': 'Alice'}, input_type=dict]\n    For further information visit https://errors.pydantic.dev/2.9/v/missing",
     "output_type": "error",
     "traceback": [
      "\u001B[0;31m---------------------------------------------------------------------------\u001B[0m",
      "\u001B[0;31mValidationError\u001B[0m                           Traceback (most recent call last)",
      "Cell \u001B[0;32mIn[26], line 1\u001B[0m\n\u001B[0;32m----> 1\u001B[0m \u001B[43mPerson1\u001B[49m\u001B[43m(\u001B[49m\u001B[43mfirst_name\u001B[49m\u001B[38;5;241;43m=\u001B[39;49m\u001B[38;5;124;43m'\u001B[39;49m\u001B[38;5;124;43mAlice\u001B[39;49m\u001B[38;5;124;43m'\u001B[39;49m\u001B[43m)\u001B[49m\n",
      "File \u001B[0;32m~/workspace/talks/venv/lib/python3.12/site-packages/pydantic/main.py:212\u001B[0m, in \u001B[0;36mBaseModel.__init__\u001B[0;34m(self, **data)\u001B[0m\n\u001B[1;32m    210\u001B[0m \u001B[38;5;66;03m# `__tracebackhide__` tells pytest and some other tools to omit this function from tracebacks\u001B[39;00m\n\u001B[1;32m    211\u001B[0m __tracebackhide__ \u001B[38;5;241m=\u001B[39m \u001B[38;5;28;01mTrue\u001B[39;00m\n\u001B[0;32m--> 212\u001B[0m validated_self \u001B[38;5;241m=\u001B[39m \u001B[38;5;28;43mself\u001B[39;49m\u001B[38;5;241;43m.\u001B[39;49m\u001B[43m__pydantic_validator__\u001B[49m\u001B[38;5;241;43m.\u001B[39;49m\u001B[43mvalidate_python\u001B[49m\u001B[43m(\u001B[49m\u001B[43mdata\u001B[49m\u001B[43m,\u001B[49m\u001B[43m \u001B[49m\u001B[43mself_instance\u001B[49m\u001B[38;5;241;43m=\u001B[39;49m\u001B[38;5;28;43mself\u001B[39;49m\u001B[43m)\u001B[49m\n\u001B[1;32m    213\u001B[0m \u001B[38;5;28;01mif\u001B[39;00m \u001B[38;5;28mself\u001B[39m \u001B[38;5;129;01mis\u001B[39;00m \u001B[38;5;129;01mnot\u001B[39;00m validated_self:\n\u001B[1;32m    214\u001B[0m     warnings\u001B[38;5;241m.\u001B[39mwarn(\n\u001B[1;32m    215\u001B[0m         \u001B[38;5;124m'\u001B[39m\u001B[38;5;124mA custom validator is returning a value other than `self`.\u001B[39m\u001B[38;5;130;01m\\n\u001B[39;00m\u001B[38;5;124m'\u001B[39m\n\u001B[1;32m    216\u001B[0m         \u001B[38;5;124m\"\u001B[39m\u001B[38;5;124mReturning anything other than `self` from a top level model validator isn\u001B[39m\u001B[38;5;124m'\u001B[39m\u001B[38;5;124mt supported when validating via `__init__`.\u001B[39m\u001B[38;5;130;01m\\n\u001B[39;00m\u001B[38;5;124m\"\u001B[39m\n\u001B[1;32m    217\u001B[0m         \u001B[38;5;124m'\u001B[39m\u001B[38;5;124mSee the `model_validator` docs (https://docs.pydantic.dev/latest/concepts/validators/#model-validators) for more details.\u001B[39m\u001B[38;5;124m'\u001B[39m,\n\u001B[1;32m    218\u001B[0m         category\u001B[38;5;241m=\u001B[39m\u001B[38;5;28;01mNone\u001B[39;00m,\n\u001B[1;32m    219\u001B[0m     )\n",
      "\u001B[0;31mValidationError\u001B[0m: 1 validation error for Person1\nlast_name\n  Field required [type=missing, input_value={'first_name': 'Alice'}, input_type=dict]\n    For further information visit https://errors.pydantic.dev/2.9/v/missing"
     ]
    }
   ],
   "execution_count": 26
  },
  {
   "metadata": {},
   "cell_type": "markdown",
   "source": [
    "## Validate `dict`s\n",
    "We can also create a person from a Python `dict`. This is useful because for example [json.load()](https://docs.python.org/3/library/json.html), [csv.DictReader](https://docs.python.org/3/library/csv.html#csv.DictReader) or [PyYAML.load()](https://pyyaml.org/wiki/PyYAMLDocumentation) all return `dict`s."
   ],
   "id": "411f374decc80923"
  },
  {
   "metadata": {
    "ExecuteTime": {
     "end_time": "2024-10-02T06:19:46.314965Z",
     "start_time": "2024-10-02T06:19:46.311462Z"
    }
   },
   "cell_type": "code",
   "source": [
    "person_dict = {\n",
    "  \"first_name\": \"Claire\",\n",
    "  \"last_name\": \"Clark\",\n",
    "}\n",
    "Person1(**person_dict)"
   ],
   "id": "ee8c331a6b776fd",
   "outputs": [
    {
     "data": {
      "text/plain": [
       "Person1(first_name='Claire', last_name='Clark', born_on=None)"
      ]
     },
     "execution_count": 27,
     "metadata": {},
     "output_type": "execute_result"
    }
   ],
   "execution_count": 27
  },
  {
   "metadata": {},
   "cell_type": "markdown",
   "source": [
    "## Custom field validation\n",
    "To validate a field, add a field validator that in case the value does not check out, raises a `ValueError`:"
   ],
   "id": "df61bee70e12b4c0"
  },
  {
   "metadata": {
    "ExecuteTime": {
     "end_time": "2024-10-02T06:23:57.705392Z",
     "start_time": "2024-10-02T06:23:57.702047Z"
    }
   },
   "cell_type": "code",
   "source": [
    "import re\n",
    "from pydantic import BaseModel, field_validator\n",
    "\n",
    "class Person2(BaseModel):\n",
    "    first_name: str\n",
    "    last_name: str\n",
    "    born_on: date | None = None\n",
    "\n",
    "    @field_validator(\"first_name\", \"last_name\")\n",
    "    @classmethod\n",
    "    def validated_name_part(cls, value: str) -> str:\n",
    "        result = value.strip()\n",
    "        if not re.match(r\"^[a-zA-Z]+$\", result):\n",
    "            raise ValueError(f\"name must contain only letters, but got: {result!r}\")\n",
    "        return result"
   ],
   "id": "14bf6a058152564f",
   "outputs": [],
   "execution_count": 28
  },
  {
   "metadata": {},
   "cell_type": "markdown",
   "source": "Now we can still define valid persons as before:",
   "id": "347a1da22b154d0a"
  },
  {
   "metadata": {
    "ExecuteTime": {
     "end_time": "2024-10-02T06:24:01.709262Z",
     "start_time": "2024-10-02T06:24:01.706116Z"
    }
   },
   "cell_type": "code",
   "source": "Person2(first_name='Alice', last_name='Adams')",
   "id": "35eed828533161a6",
   "outputs": [
    {
     "data": {
      "text/plain": [
       "Person2(first_name='Alice', last_name='Adams', born_on=None)"
      ]
     },
     "execution_count": 29,
     "metadata": {},
     "output_type": "execute_result"
    }
   ],
   "execution_count": 29
  },
  {
   "metadata": {},
   "cell_type": "markdown",
   "source": [
    "## Validation errors\n",
    "But trying a name with punctuation characters fails:"
   ],
   "id": "f631501e419ae50"
  },
  {
   "metadata": {
    "ExecuteTime": {
     "end_time": "2024-10-02T06:24:04.575901Z",
     "start_time": "2024-10-02T06:24:04.563051Z"
    }
   },
   "cell_type": "code",
   "source": "Person2(first_name=123, last_name='?!&')",
   "id": "b958965af258f70f",
   "outputs": [
    {
     "ename": "ValidationError",
     "evalue": "2 validation errors for Person2\nfirst_name\n  Input should be a valid string [type=string_type, input_value=123, input_type=int]\n    For further information visit https://errors.pydantic.dev/2.9/v/string_type\nlast_name\n  Value error, name must contain only letters, but got: '?!&' [type=value_error, input_value='?!&', input_type=str]\n    For further information visit https://errors.pydantic.dev/2.9/v/value_error",
     "output_type": "error",
     "traceback": [
      "\u001B[0;31m---------------------------------------------------------------------------\u001B[0m",
      "\u001B[0;31mValidationError\u001B[0m                           Traceback (most recent call last)",
      "Cell \u001B[0;32mIn[30], line 1\u001B[0m\n\u001B[0;32m----> 1\u001B[0m \u001B[43mPerson2\u001B[49m\u001B[43m(\u001B[49m\u001B[43mfirst_name\u001B[49m\u001B[38;5;241;43m=\u001B[39;49m\u001B[38;5;241;43m123\u001B[39;49m\u001B[43m,\u001B[49m\u001B[43m \u001B[49m\u001B[43mlast_name\u001B[49m\u001B[38;5;241;43m=\u001B[39;49m\u001B[38;5;124;43m'\u001B[39;49m\u001B[38;5;124;43m?!&\u001B[39;49m\u001B[38;5;124;43m'\u001B[39;49m\u001B[43m)\u001B[49m\n",
      "File \u001B[0;32m~/workspace/talks/venv/lib/python3.12/site-packages/pydantic/main.py:212\u001B[0m, in \u001B[0;36mBaseModel.__init__\u001B[0;34m(self, **data)\u001B[0m\n\u001B[1;32m    210\u001B[0m \u001B[38;5;66;03m# `__tracebackhide__` tells pytest and some other tools to omit this function from tracebacks\u001B[39;00m\n\u001B[1;32m    211\u001B[0m __tracebackhide__ \u001B[38;5;241m=\u001B[39m \u001B[38;5;28;01mTrue\u001B[39;00m\n\u001B[0;32m--> 212\u001B[0m validated_self \u001B[38;5;241m=\u001B[39m \u001B[38;5;28;43mself\u001B[39;49m\u001B[38;5;241;43m.\u001B[39;49m\u001B[43m__pydantic_validator__\u001B[49m\u001B[38;5;241;43m.\u001B[39;49m\u001B[43mvalidate_python\u001B[49m\u001B[43m(\u001B[49m\u001B[43mdata\u001B[49m\u001B[43m,\u001B[49m\u001B[43m \u001B[49m\u001B[43mself_instance\u001B[49m\u001B[38;5;241;43m=\u001B[39;49m\u001B[38;5;28;43mself\u001B[39;49m\u001B[43m)\u001B[49m\n\u001B[1;32m    213\u001B[0m \u001B[38;5;28;01mif\u001B[39;00m \u001B[38;5;28mself\u001B[39m \u001B[38;5;129;01mis\u001B[39;00m \u001B[38;5;129;01mnot\u001B[39;00m validated_self:\n\u001B[1;32m    214\u001B[0m     warnings\u001B[38;5;241m.\u001B[39mwarn(\n\u001B[1;32m    215\u001B[0m         \u001B[38;5;124m'\u001B[39m\u001B[38;5;124mA custom validator is returning a value other than `self`.\u001B[39m\u001B[38;5;130;01m\\n\u001B[39;00m\u001B[38;5;124m'\u001B[39m\n\u001B[1;32m    216\u001B[0m         \u001B[38;5;124m\"\u001B[39m\u001B[38;5;124mReturning anything other than `self` from a top level model validator isn\u001B[39m\u001B[38;5;124m'\u001B[39m\u001B[38;5;124mt supported when validating via `__init__`.\u001B[39m\u001B[38;5;130;01m\\n\u001B[39;00m\u001B[38;5;124m\"\u001B[39m\n\u001B[1;32m    217\u001B[0m         \u001B[38;5;124m'\u001B[39m\u001B[38;5;124mSee the `model_validator` docs (https://docs.pydantic.dev/latest/concepts/validators/#model-validators) for more details.\u001B[39m\u001B[38;5;124m'\u001B[39m,\n\u001B[1;32m    218\u001B[0m         category\u001B[38;5;241m=\u001B[39m\u001B[38;5;28;01mNone\u001B[39;00m,\n\u001B[1;32m    219\u001B[0m     )\n",
      "\u001B[0;31mValidationError\u001B[0m: 2 validation errors for Person2\nfirst_name\n  Input should be a valid string [type=string_type, input_value=123, input_type=int]\n    For further information visit https://errors.pydantic.dev/2.9/v/string_type\nlast_name\n  Value error, name must contain only letters, but got: '?!&' [type=value_error, input_value='?!&', input_type=str]\n    For further information visit https://errors.pydantic.dev/2.9/v/value_error"
     ]
    }
   ],
   "execution_count": 30
  },
  {
   "metadata": {},
   "cell_type": "markdown",
   "source": "Notice that pydantic validates all fields, even if some of them fail. So you might get multiple errors at once.",
   "id": "5d68951c2b4ad4ca"
  },
  {
   "metadata": {},
   "cell_type": "markdown",
   "source": [
    "## Advanced validation with annotated fields\n",
    "Pydantic allows to annotate fields to enable validation beyond type checks, for instance whether an `int` is within a specified range:"
   ],
   "id": "cc759ab0a8efbe3"
  },
  {
   "metadata": {
    "ExecuteTime": {
     "end_time": "2024-10-02T06:24:08.157271Z",
     "start_time": "2024-10-02T06:24:08.153574Z"
    }
   },
   "cell_type": "code",
   "source": [
    "from pydantic import BaseModel, Field\n",
    "from typing_extensions import Annotated\n",
    "\n",
    "class Restaurant(BaseModel):\n",
    "    rating: Annotated[int, Field(strict=True, ge=1, le=5)]\n",
    "    \n",
    "Restaurant(rating=3)"
   ],
   "id": "e1e5be57a34b26c4",
   "outputs": [
    {
     "data": {
      "text/plain": [
       "Restaurant(rating=3)"
      ]
     },
     "execution_count": 31,
     "metadata": {},
     "output_type": "execute_result"
    }
   ],
   "execution_count": 31
  },
  {
   "metadata": {
    "ExecuteTime": {
     "end_time": "2024-10-02T06:24:10.758505Z",
     "start_time": "2024-10-02T06:24:10.747427Z"
    }
   },
   "cell_type": "code",
   "source": "Restaurant(rating=-999)",
   "id": "f865e140860ff7c7",
   "outputs": [
    {
     "ename": "ValidationError",
     "evalue": "1 validation error for Restaurant\nrating\n  Input should be greater than or equal to 1 [type=greater_than_equal, input_value=-999, input_type=int]\n    For further information visit https://errors.pydantic.dev/2.9/v/greater_than_equal",
     "output_type": "error",
     "traceback": [
      "\u001B[0;31m---------------------------------------------------------------------------\u001B[0m",
      "\u001B[0;31mValidationError\u001B[0m                           Traceback (most recent call last)",
      "Cell \u001B[0;32mIn[32], line 1\u001B[0m\n\u001B[0;32m----> 1\u001B[0m \u001B[43mRestaurant\u001B[49m\u001B[43m(\u001B[49m\u001B[43mrating\u001B[49m\u001B[38;5;241;43m=\u001B[39;49m\u001B[38;5;241;43m-\u001B[39;49m\u001B[38;5;241;43m999\u001B[39;49m\u001B[43m)\u001B[49m\n",
      "File \u001B[0;32m~/workspace/talks/venv/lib/python3.12/site-packages/pydantic/main.py:212\u001B[0m, in \u001B[0;36mBaseModel.__init__\u001B[0;34m(self, **data)\u001B[0m\n\u001B[1;32m    210\u001B[0m \u001B[38;5;66;03m# `__tracebackhide__` tells pytest and some other tools to omit this function from tracebacks\u001B[39;00m\n\u001B[1;32m    211\u001B[0m __tracebackhide__ \u001B[38;5;241m=\u001B[39m \u001B[38;5;28;01mTrue\u001B[39;00m\n\u001B[0;32m--> 212\u001B[0m validated_self \u001B[38;5;241m=\u001B[39m \u001B[38;5;28;43mself\u001B[39;49m\u001B[38;5;241;43m.\u001B[39;49m\u001B[43m__pydantic_validator__\u001B[49m\u001B[38;5;241;43m.\u001B[39;49m\u001B[43mvalidate_python\u001B[49m\u001B[43m(\u001B[49m\u001B[43mdata\u001B[49m\u001B[43m,\u001B[49m\u001B[43m \u001B[49m\u001B[43mself_instance\u001B[49m\u001B[38;5;241;43m=\u001B[39;49m\u001B[38;5;28;43mself\u001B[39;49m\u001B[43m)\u001B[49m\n\u001B[1;32m    213\u001B[0m \u001B[38;5;28;01mif\u001B[39;00m \u001B[38;5;28mself\u001B[39m \u001B[38;5;129;01mis\u001B[39;00m \u001B[38;5;129;01mnot\u001B[39;00m validated_self:\n\u001B[1;32m    214\u001B[0m     warnings\u001B[38;5;241m.\u001B[39mwarn(\n\u001B[1;32m    215\u001B[0m         \u001B[38;5;124m'\u001B[39m\u001B[38;5;124mA custom validator is returning a value other than `self`.\u001B[39m\u001B[38;5;130;01m\\n\u001B[39;00m\u001B[38;5;124m'\u001B[39m\n\u001B[1;32m    216\u001B[0m         \u001B[38;5;124m\"\u001B[39m\u001B[38;5;124mReturning anything other than `self` from a top level model validator isn\u001B[39m\u001B[38;5;124m'\u001B[39m\u001B[38;5;124mt supported when validating via `__init__`.\u001B[39m\u001B[38;5;130;01m\\n\u001B[39;00m\u001B[38;5;124m\"\u001B[39m\n\u001B[1;32m    217\u001B[0m         \u001B[38;5;124m'\u001B[39m\u001B[38;5;124mSee the `model_validator` docs (https://docs.pydantic.dev/latest/concepts/validators/#model-validators) for more details.\u001B[39m\u001B[38;5;124m'\u001B[39m,\n\u001B[1;32m    218\u001B[0m         category\u001B[38;5;241m=\u001B[39m\u001B[38;5;28;01mNone\u001B[39;00m,\n\u001B[1;32m    219\u001B[0m     )\n",
      "\u001B[0;31mValidationError\u001B[0m: 1 validation error for Restaurant\nrating\n  Input should be greater than or equal to 1 [type=greater_than_equal, input_value=-999, input_type=int]\n    For further information visit https://errors.pydantic.dev/2.9/v/greater_than_equal"
     ]
    }
   ],
   "execution_count": 32
  },
  {
   "metadata": {},
   "cell_type": "markdown",
   "source": [
    "## Validation across fields\n",
    "In addition to field validators, model validators can validate that multiple fields are consistent to each other. For example, a person can only have died after they have been born:"
   ],
   "id": "f08caa1cea4b9eaa"
  },
  {
   "metadata": {
    "ExecuteTime": {
     "end_time": "2024-10-02T06:24:16.652125Z",
     "start_time": "2024-10-02T06:24:16.647487Z"
    }
   },
   "cell_type": "code",
   "source": [
    "from pydantic import BaseModel, model_validator\n",
    "\n",
    "class Person3(BaseModel):\n",
    "    first_name: str\n",
    "    last_name: str\n",
    "    born_on: date\n",
    "    died_on: date | None = None\n",
    "    \n",
    "    @model_validator(mode=\"after\")\n",
    "    def check_is_born_before_died(self) -> \"Person3\":\n",
    "        if self.died_on is not None:\n",
    "            if self.born_on >= self.died_on:\n",
    "                raise ValueError(\n",
    "                    \"A person must be born before they died.\"\n",
    "                )\n",
    "        return self"
   ],
   "id": "dde9601877b27b4e",
   "outputs": [],
   "execution_count": 34
  },
  {
   "metadata": {},
   "cell_type": "markdown",
   "source": "Let's try:",
   "id": "e648a9bb9b799a83"
  },
  {
   "metadata": {
    "ExecuteTime": {
     "end_time": "2024-10-02T06:24:20.428140Z",
     "start_time": "2024-10-02T06:24:20.424609Z"
    }
   },
   "cell_type": "code",
   "source": "Person3(first_name=\"Alice\", last_name=\"Adams\", born_on=date(1970, 1, 1))",
   "id": "47d438c543bb388b",
   "outputs": [
    {
     "data": {
      "text/plain": [
       "Person3(first_name='Alice', last_name='Adams', born_on=datetime.date(1970, 1, 1), died_on=None)"
      ]
     },
     "execution_count": 35,
     "metadata": {},
     "output_type": "execute_result"
    }
   ],
   "execution_count": 35
  },
  {
   "metadata": {
    "ExecuteTime": {
     "end_time": "2024-10-02T06:24:22.036455Z",
     "start_time": "2024-10-02T06:24:22.032800Z"
    }
   },
   "cell_type": "code",
   "source": "Person3(first_name=\"Bob\", last_name=\"Smith\", born_on=date(1960, 1, 1), died_on=date(2020, 1, 1))",
   "id": "ff362555798a6d88",
   "outputs": [
    {
     "data": {
      "text/plain": [
       "Person3(first_name='Bob', last_name='Smith', born_on=datetime.date(1960, 1, 1), died_on=datetime.date(2020, 1, 1))"
      ]
     },
     "execution_count": 36,
     "metadata": {},
     "output_type": "execute_result"
    }
   ],
   "execution_count": 36
  },
  {
   "metadata": {},
   "cell_type": "markdown",
   "source": "But this fails:",
   "id": "ad5e5db92a967d4b"
  },
  {
   "metadata": {
    "ExecuteTime": {
     "end_time": "2024-10-02T06:24:28.620091Z",
     "start_time": "2024-10-02T06:24:28.607757Z"
    }
   },
   "cell_type": "code",
   "source": "Person3(first_name=\"Claire\", last_name=\"Clark\", born_on=date(2020, 1, 1), died_on=date(1950, 1, 1))",
   "id": "c3ae48494d0bf6be",
   "outputs": [
    {
     "ename": "ValidationError",
     "evalue": "1 validation error for Person3\n  Value error, A person must be born before they died. [type=value_error, input_value={'first_name': 'Claire', ...tetime.date(1950, 1, 1)}, input_type=dict]\n    For further information visit https://errors.pydantic.dev/2.9/v/value_error",
     "output_type": "error",
     "traceback": [
      "\u001B[0;31m---------------------------------------------------------------------------\u001B[0m",
      "\u001B[0;31mValidationError\u001B[0m                           Traceback (most recent call last)",
      "Cell \u001B[0;32mIn[37], line 1\u001B[0m\n\u001B[0;32m----> 1\u001B[0m \u001B[43mPerson3\u001B[49m\u001B[43m(\u001B[49m\u001B[43mfirst_name\u001B[49m\u001B[38;5;241;43m=\u001B[39;49m\u001B[38;5;124;43m\"\u001B[39;49m\u001B[38;5;124;43mClaire\u001B[39;49m\u001B[38;5;124;43m\"\u001B[39;49m\u001B[43m,\u001B[49m\u001B[43m \u001B[49m\u001B[43mlast_name\u001B[49m\u001B[38;5;241;43m=\u001B[39;49m\u001B[38;5;124;43m\"\u001B[39;49m\u001B[38;5;124;43mClark\u001B[39;49m\u001B[38;5;124;43m\"\u001B[39;49m\u001B[43m,\u001B[49m\u001B[43m \u001B[49m\u001B[43mborn_on\u001B[49m\u001B[38;5;241;43m=\u001B[39;49m\u001B[43mdate\u001B[49m\u001B[43m(\u001B[49m\u001B[38;5;241;43m2020\u001B[39;49m\u001B[43m,\u001B[49m\u001B[43m \u001B[49m\u001B[38;5;241;43m1\u001B[39;49m\u001B[43m,\u001B[49m\u001B[43m \u001B[49m\u001B[38;5;241;43m1\u001B[39;49m\u001B[43m)\u001B[49m\u001B[43m,\u001B[49m\u001B[43m \u001B[49m\u001B[43mdied_on\u001B[49m\u001B[38;5;241;43m=\u001B[39;49m\u001B[43mdate\u001B[49m\u001B[43m(\u001B[49m\u001B[38;5;241;43m1950\u001B[39;49m\u001B[43m,\u001B[49m\u001B[43m \u001B[49m\u001B[38;5;241;43m1\u001B[39;49m\u001B[43m,\u001B[49m\u001B[43m \u001B[49m\u001B[38;5;241;43m1\u001B[39;49m\u001B[43m)\u001B[49m\u001B[43m)\u001B[49m\n",
      "File \u001B[0;32m~/workspace/talks/venv/lib/python3.12/site-packages/pydantic/main.py:212\u001B[0m, in \u001B[0;36mBaseModel.__init__\u001B[0;34m(self, **data)\u001B[0m\n\u001B[1;32m    210\u001B[0m \u001B[38;5;66;03m# `__tracebackhide__` tells pytest and some other tools to omit this function from tracebacks\u001B[39;00m\n\u001B[1;32m    211\u001B[0m __tracebackhide__ \u001B[38;5;241m=\u001B[39m \u001B[38;5;28;01mTrue\u001B[39;00m\n\u001B[0;32m--> 212\u001B[0m validated_self \u001B[38;5;241m=\u001B[39m \u001B[38;5;28;43mself\u001B[39;49m\u001B[38;5;241;43m.\u001B[39;49m\u001B[43m__pydantic_validator__\u001B[49m\u001B[38;5;241;43m.\u001B[39;49m\u001B[43mvalidate_python\u001B[49m\u001B[43m(\u001B[49m\u001B[43mdata\u001B[49m\u001B[43m,\u001B[49m\u001B[43m \u001B[49m\u001B[43mself_instance\u001B[49m\u001B[38;5;241;43m=\u001B[39;49m\u001B[38;5;28;43mself\u001B[39;49m\u001B[43m)\u001B[49m\n\u001B[1;32m    213\u001B[0m \u001B[38;5;28;01mif\u001B[39;00m \u001B[38;5;28mself\u001B[39m \u001B[38;5;129;01mis\u001B[39;00m \u001B[38;5;129;01mnot\u001B[39;00m validated_self:\n\u001B[1;32m    214\u001B[0m     warnings\u001B[38;5;241m.\u001B[39mwarn(\n\u001B[1;32m    215\u001B[0m         \u001B[38;5;124m'\u001B[39m\u001B[38;5;124mA custom validator is returning a value other than `self`.\u001B[39m\u001B[38;5;130;01m\\n\u001B[39;00m\u001B[38;5;124m'\u001B[39m\n\u001B[1;32m    216\u001B[0m         \u001B[38;5;124m\"\u001B[39m\u001B[38;5;124mReturning anything other than `self` from a top level model validator isn\u001B[39m\u001B[38;5;124m'\u001B[39m\u001B[38;5;124mt supported when validating via `__init__`.\u001B[39m\u001B[38;5;130;01m\\n\u001B[39;00m\u001B[38;5;124m\"\u001B[39m\n\u001B[1;32m    217\u001B[0m         \u001B[38;5;124m'\u001B[39m\u001B[38;5;124mSee the `model_validator` docs (https://docs.pydantic.dev/latest/concepts/validators/#model-validators) for more details.\u001B[39m\u001B[38;5;124m'\u001B[39m,\n\u001B[1;32m    218\u001B[0m         category\u001B[38;5;241m=\u001B[39m\u001B[38;5;28;01mNone\u001B[39;00m,\n\u001B[1;32m    219\u001B[0m     )\n",
      "\u001B[0;31mValidationError\u001B[0m: 1 validation error for Person3\n  Value error, A person must be born before they died. [type=value_error, input_value={'first_name': 'Claire', ...tetime.date(1950, 1, 1)}, input_type=dict]\n    For further information visit https://errors.pydantic.dev/2.9/v/value_error"
     ]
    }
   ],
   "execution_count": 37
  },
  {
   "metadata": {},
   "cell_type": "markdown",
   "source": [
    "## Camel case vs snake case\n",
    "If the input uses camel case field names, as it is common with JSON, the Python code can remain snake case by using an `alias`. This allows the source code to be conformant with the [PEP8 naming guidelines](https://peps.python.org/pep-0008/)."
   ],
   "id": "59ce83ebeb50f76c"
  },
  {
   "metadata": {
    "ExecuteTime": {
     "end_time": "2024-10-02T06:24:35.842961Z",
     "start_time": "2024-10-02T06:24:35.840140Z"
    }
   },
   "cell_type": "code",
   "source": [
    "from pydantic import BaseModel, Field\n",
    "\n",
    "class Person4(BaseModel):\n",
    "    first_name: str = Field(alias=\"firstName\")\n",
    "    last_name: str = Field(alias=\"lastName\")"
   ],
   "id": "9993d3c79de85a15",
   "outputs": [],
   "execution_count": 38
  },
  {
   "metadata": {},
   "cell_type": "markdown",
   "source": "For example:",
   "id": "c4d56bc4acfa6b0e"
  },
  {
   "metadata": {
    "ExecuteTime": {
     "end_time": "2024-10-02T06:24:38.785346Z",
     "start_time": "2024-10-02T06:24:38.782488Z"
    }
   },
   "cell_type": "code",
   "source": [
    "json = {\"firstName\": \"Alice\", \"lastName\": \"Adams\"}\n",
    "Person4(**json)"
   ],
   "id": "40073113d6aa5e92",
   "outputs": [
    {
     "data": {
      "text/plain": [
       "Person4(first_name='Alice', last_name='Adams')"
      ]
     },
     "execution_count": 39,
     "metadata": {},
     "output_type": "execute_result"
    }
   ],
   "execution_count": 39
  }
 ],
 "metadata": {
  "kernelspec": {
   "display_name": "Python 3",
   "language": "python",
   "name": "python3"
  },
  "language_info": {
   "codemirror_mode": {
    "name": "ipython",
    "version": 2
   },
   "file_extension": ".py",
   "mimetype": "text/x-python",
   "name": "python",
   "nbconvert_exporter": "python",
   "pygments_lexer": "ipython2",
   "version": "2.7.6"
  }
 },
 "nbformat": 4,
 "nbformat_minor": 5
}
